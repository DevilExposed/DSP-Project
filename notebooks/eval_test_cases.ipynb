{
 "cells": [
  {
   "cell_type": "markdown",
   "metadata": {},
   "source": [
    "This notebook is designed to be run in Google Colab, which provides a pre-configured Python environment with many common data science and machine learning libraries already installed.\n",
    "Package Installation Syntax:\n",
    "In Colab, you can install additional Python packages using the ! at the start of a cell:\n",
    "This is different from Jupyter notebooks run locally, where you might use %pip install or run pip in a terminal.\n",
    "\n",
    "Some imports may not have explicit installation commands in the notebook because they are already available in the Colab environment by default."
   ]
  },
  {
   "cell_type": "code",
   "execution_count": null,
   "metadata": {},
   "outputs": [],
   "source": [
    "!pip install datasets torchaudio torch"
   ]
  },
  {
   "cell_type": "code",
   "execution_count": null,
   "metadata": {},
   "outputs": [],
   "source": [
    "from datasets import load_dataset\n",
    "import torchaudio\n",
    "import os\n",
    "import csv\n",
    "\n",
    "languages = [\"en\", \"bg\", \"uk\", \"ru\", \"ar\", \"it\", \"pl\", \"pt\"]\n",
    "maxTestRows = 50_000 # Selecting how many samples to process\n",
    "rowsExported  = 1_000 # Selecting how many samples to save\n",
    "\n",
    "for lang in languages:\n",
    "    # Load the test split\n",
    "    test_dataset = load_dataset(\"mozilla-foundation/common_voice_13_0\", lang, split=f\"test[:{maxTestRows}]\")\n",
    "\n",
    "    test_dataset = test_dataset.shuffle(seed=42)\n",
    "\n",
    "    subset_n = min(rowsExported, len(test_dataset))\n",
    "    subset_dataset = test_dataset.select(range(subset_n))\n",
    "\n",
    "    os.makedirs(f\"/content/tests/{lang}_gold_wavs\", exist_ok=True)\n",
    "\n",
    "    # Open CSV file for writing\n",
    "    with open(f\"/content/tests/{lang}_gold.csv\", mode=\"w\", newline=\"\", encoding=\"utf-8\") as csv_file:\n",
    "        writer = csv.DictWriter(csv_file, fieldnames=[\"file\", \"text\"])\n",
    "        writer.writeheader()\n",
    "\n",
    "        print(f\"Starting file save loop for {lang}\")\n",
    "        # Process a subset of the test dataset\n",
    "        for i, sample in enumerate(subset_dataset):\n",
    "            print(f\"Processing file {i+1}/1000 for {lang}\")\n",
    "            filename = f\"sample_{i}.wav\"\n",
    "            filepath = f\"/content/tests/{lang}_gold_wavs/{filename}\"\n",
    "\n",
    "            # Save audio file\n",
    "            waveform = torch.tensor(sample[\"audio\"][\"array\"]).unsqueeze(0)\n",
    "            torchaudio.save(filepath, waveform, sample[\"audio\"][\"sampling_rate\"])\n",
    "\n",
    "            # Write to CSV\n",
    "            writer.writerow({\"file\": filename, \"text\": sample[\"sentence\"]})"
   ]
  },
  {
   "cell_type": "code",
   "execution_count": null,
   "metadata": {},
   "outputs": [],
   "source": [
    "import shutil\n",
    "\n",
    "# Create a zip of all test directories\n",
    "shutil.make_archive(\"/content/all_tests\", 'zip', \"/content/tests\")\n",
    "\n",
    "# Download the zip\n",
    "from google.colab import files\n",
    "files.download(\"/content/all_tests.zip\")"
   ]
  }
 ],
 "metadata": {
  "kernelspec": {
   "display_name": "Python 3",
   "language": "python",
   "name": "python3"
  },
  "language_info": {
   "name": "python",
   "version": "3.11.9"
  }
 },
 "nbformat": 4,
 "nbformat_minor": 2
}
